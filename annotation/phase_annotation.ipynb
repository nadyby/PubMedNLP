{
 "cells": [
  {
   "cell_type": "markdown",
   "metadata": {},
   "source": [
    "# Projet PubMedNLP\n",
    "\n",
    "**Élaboré par :** Nadia BEN YOUSSEF"
   ]
  },
  {
   "cell_type": "markdown",
   "metadata": {},
   "source": [
    "---"
   ]
  },
  {
   "cell_type": "markdown",
   "metadata": {},
   "source": [
    "## Phase d'annotation des articles extraits "
   ]
  },
  {
   "cell_type": "markdown",
   "metadata": {},
   "source": [
    "##### Bibliothèques"
   ]
  },
  {
   "cell_type": "code",
   "execution_count": null,
   "metadata": {},
   "outputs": [],
   "source": [
    "from transformers import AutoTokenizer, AutoModelForQuestionAnswering\n",
    "from transformers import pipeline\n",
    "import torch\n",
    "import json\n",
    "from torch.utils.data import Dataset, DataLoader\n",
    "import re\n",
    "import os"
   ]
  },
  {
   "cell_type": "markdown",
   "metadata": {},
   "source": [
    "##### Lecture du Fichier JSON"
   ]
  },
  {
   "cell_type": "code",
   "execution_count": null,
   "metadata": {
    "execution": {
     "iopub.execute_input": "2025-02-21T19:38:36.694500Z",
     "iopub.status.busy": "2025-02-21T19:38:36.694151Z",
     "iopub.status.idle": "2025-02-21T19:38:36.734276Z",
     "shell.execute_reply": "2025-02-21T19:38:36.733576Z",
     "shell.execute_reply.started": "2025-02-21T19:38:36.694469Z"
    },
    "trusted": true
   },
   "outputs": [
    {
     "name": "stdout",
     "output_type": "stream",
     "text": [
      "Chargement des articles...\n",
      "Nombre d'articles chargés : 949\n",
      "\n",
      "Exemple d'article :\n",
      "{\n",
      "  \"Article Title\": \"FBP1 controls liver cancer evolution from senescent MASH hepatocytes.\",\n",
      "  \"pmid\": \"39743585\",\n",
      "  \"authors\": \"Gu L, Zhu Y, Nandi SP, Lee M, Watari K, Bareng B, Ohira M, Liu Y, Sakane S, Carlessi R, Sauceda C, Dhar D, Ganguly S, Hosseini M, Teneche MG, Adams PD, Gonzalez DJ, Kisseleva T; Liver Cancer Collaborative; Tirnitz-Parker JEE, Simon MC, Alexandrov LB, Karin M.\",\n",
      "  \"source\": \"Nature\",\n",
      "  \"publication_date\": \"2025 Jan 1.\",\n",
      "  \"abstract\": \"Hepatocellular carcinoma (HCC) originates from differentiated hepatocytes undergoing compensatory proliferation in livers damaged by viruses or metabolic-dysfunction-associated steatohepatitis (MASH)1. While increasing HCC risk2, MASH triggers p53-dependent hepatocyte senescence3, which we found to parallel hypernutrition-induced DNA breaks. How this tumour-suppressive response is bypassed to license oncogenic mutagenesis and enable HCC evolution was previously unclear. Here we identified the gluconeogenic enzyme fructose-1,6-bisphosphatase 1 (FBP1) as a p53 target that is elevated in senescent-like MASH hepatocytes but suppressed through promoter hypermethylation and proteasomal degradation in most human HCCs. FBP1 first declines in metabolically stressed premalignant disease-associated hepatocytes and HCC progenitor cells4,5, paralleling the protumorigenic activation of AKT and NRF2. By accelerating FBP1 and p53 degradation, AKT and NRF2 enhance the proliferation and metabolic activity of previously senescent HCC progenitors. The senescence-reversing and proliferation-supportive NRF2-FBP1-AKT-p53 metabolic switch, operative in mice and humans, also enhances the accumulation of DNA-damage-induced somatic mutations needed for MASH-to-HCC progression.\",\n",
      "  \"doi\": \"10.1038/s41586-024-08317-9\",\n",
      "  \"keywords\": \"NO_KEYWORDS\"\n",
      "}\n"
     ]
    }
   ],
   "source": [
    "def load_articles():\n",
    "    \"\"\"\n",
    "    Charge les articles depuis le fichier JSON\n",
    "    \"\"\"\n",
    "    file_path = '/Users/nadiabenyoussef/Projet NLP/scraping/articles.json'\n",
    "    \n",
    "    print(\"Chargement des articles...\")\n",
    "    try:\n",
    "        with open(file_path, 'r') as file:\n",
    "            articles = json.load(file)\n",
    "        print(f\"Nombre d'articles chargés : {len(articles)}\")\n",
    "        print(\"\\nExemple d'article :\")\n",
    "        print(json.dumps(articles[0], indent=2))\n",
    "        \n",
    "        return articles\n",
    "    except Exception as e:\n",
    "        print(f\"Erreur lors du chargement : {e}\")\n",
    "        return None\n",
    "\n",
    "articles = load_articles()"
   ]
  },
  {
   "cell_type": "code",
   "execution_count": null,
   "metadata": {
    "execution": {
     "iopub.execute_input": "2025-02-21T19:45:35.179792Z",
     "iopub.status.busy": "2025-02-21T19:45:35.179445Z",
     "iopub.status.idle": "2025-02-21T19:45:35.200515Z",
     "shell.execute_reply": "2025-02-21T19:45:35.199554Z",
     "shell.execute_reply.started": "2025-02-21T19:45:35.179763Z"
    },
    "trusted": true
   },
   "outputs": [
    {
     "name": "stdout",
     "output_type": "stream",
     "text": [
      "Structure du premier article:\n",
      "- Article Title\n",
      "- pmid\n",
      "- authors\n",
      "- source\n",
      "- publication_date\n",
      "- abstract\n",
      "- doi\n",
      "- keywords\n",
      "\n",
      "Contenu du premier article:\n",
      "{\n",
      "  \"Article Title\": \"FBP1 controls liver cancer evolution from senescent MASH hepatocytes.\",\n",
      "  \"pmid\": \"39743585\",\n",
      "  \"authors\": \"Gu L, Zhu Y, Nandi SP, Lee M, Watari K, Bareng B, Ohira M, Liu Y, Sakane S, Carlessi R, Sauceda C, Dhar D, Ganguly S, Hosseini M, Teneche MG, Adams PD, Gonzalez DJ, Kisseleva T; Liver Cancer Collaborative; Tirnitz-Parker JEE, Simon MC, Alexandrov LB, Karin M.\",\n",
      "  \"source\": \"Nature\",\n",
      "  \"publication_date\": \"2025 Jan 1.\",\n",
      "  \"abstract\": \"Hepatocellular carcinoma (HCC) originates from differentiated hepatocytes undergoing compensatory proliferation in livers damaged by viruses or metabolic-dysfunction-associated steatohepatitis (MASH)1. While increasing HCC risk2, MASH triggers p53-dependent hepatocyte senescence3, which we found to parallel hypernutrition-induced DNA breaks. How this tumour-suppressive response is bypassed to license oncogenic mutagenesis and enable HCC evolution was previously unclear. Here we identified the gluconeogenic enzyme fructose-1,6-bisphosphatase 1 (FBP1) as a p53 target that is elevated in senescent-like MASH hepatocytes but suppressed through promoter hypermethylation and proteasomal degradation in most human HCCs. FBP1 first declines in metabolically stressed premalignant disease-associated hepatocytes and HCC progenitor cells4,5, paralleling the protumorigenic activation of AKT and NRF2. By accelerating FBP1 and p53 degradation, AKT and NRF2 enhance the proliferation and metabolic activity of previously senescent HCC progenitors. The senescence-reversing and proliferation-supportive NRF2-FBP1-AKT-p53 metabolic switch, operative in mice and humans, also enhances the accumulation of DNA-damage-induced somatic mutations needed for MASH-to-HCC progression.\",\n",
      "  \"doi\": \"10.1038/s41586-024-08317-9\",\n",
      "  \"keywords\": \"NO_KEYWORDS\"\n",
      "}\n"
     ]
    }
   ],
   "source": [
    "def check_structure():\n",
    "    \"\"\"\n",
    "    Vérifie la structure du fichier JSON\n",
    "    \"\"\"\n",
    "    file_path = '/Users/nadiabenyoussef/Projet NLP/scraping/articles.json'\n",
    "    with open(file_path, 'r') as file:\n",
    "        articles = json.load(file)\n",
    "        \n",
    "    print(\"Structure du premier article:\")\n",
    "    first_article = articles[0]\n",
    "    for key in first_article.keys():\n",
    "        print(f\"- {key}\")\n",
    "        \n",
    "    print(\"\\nContenu du premier article:\")\n",
    "    print(json.dumps(first_article, indent=2))\n",
    "    \n",
    "    return articles[0]\n",
    "\n",
    "first_article = check_structure()"
   ]
  },
  {
   "cell_type": "markdown",
   "metadata": {},
   "source": [
    "--------"
   ]
  },
  {
   "cell_type": "markdown",
   "metadata": {},
   "source": [
    "#### Test sur 50 articles"
   ]
  },
  {
   "cell_type": "markdown",
   "metadata": {},
   "source": [
    "##### Nettoyage"
   ]
  },
  {
   "cell_type": "code",
   "execution_count": null,
   "metadata": {},
   "outputs": [],
   "source": [
    "def clean_entity(text):\n",
    "    \"\"\"\n",
    "    Nettoie et normalise une entité\n",
    "    \"\"\"\n",
    "    text = text.strip().rstrip('.,;:')\n",
    "    text = re.sub(r'(.*?)\\s+and\\s+\\1.*', r'\\1', text)\n",
    "    if len(text.split()) > 10:\n",
    "        return None\n",
    "    return text\n",
    "\n",
    "def verify_disease(text, title=None, abstract=None):\n",
    "    \"\"\"\n",
    "    Vérifie si le texte est une maladie spécifique, rejette les génériques\n",
    "    \"\"\"\n",
    "    non_diseases = {'tryptophan', 'bacteria', 'virus', 'protein', 'vitamin', 'NAD', 'NADH', \n",
    "                   'cholera', 'vibrio', 'microscopy', 'inflammation', 'biofilm', 'pathway',\n",
    "                   'study', 'research', 'analysis', 'method', 'cells', 'unknown', 'meat', \n",
    "                   'single-cell', 'RNA', 'DNA', 'sequencing', 'abstract', 'mice', 'model',\n",
    "                   'AKT', 'progenitor', 'gluconeogenic', 'nutrition', 'metagenomic', 'immune',\n",
    "                   'disease', 'tumor', 'growth', 'prognosis', 'progression', 'mortality'}  # Génériques exclus\n",
    "    disease_indicators = {'cancer', 'disease', 'tumor', 'syndrome', 'carcinoma', 'disorder',\n",
    "                         'infection', 'itis', 'osis', 'emia', 'pathy', 'failure', 'injury',\n",
    "                         'sclerosis', 'deficiency'}\n",
    "    common_diseases = {'hepatocellular carcinoma', 'breast cancer', 'gastric cancer', 'lung cancer',\n",
    "                       'glioblastoma', 'alzheimer\\'s disease', 'cardiovascular disease', 'diabetes',\n",
    "                       'osteoarthritis', 'autoimmune diseases', 'inflammatory bowel disease',\n",
    "                       'pancreatic cancer', 'cervical cancer', 'endometriosis', 'ferroptosis'}\n",
    "    \n",
    "    text_lower = text.lower()\n",
    "    \n",
    "    if any(term == text_lower for term in non_diseases) or len(text.split()) > 5:  # \"disease\" seul rejeté\n",
    "        return False\n",
    "    \n",
    "    # Accepter si dans common_diseases ou spécifique avec indicateur\n",
    "    if text_lower in common_diseases or \\\n",
    "       (any(indicator in text_lower for indicator in disease_indicators) and len(text.split()) > 1):\n",
    "        return True\n",
    "    \n",
    "    if title and abstract:\n",
    "        context = (title + \" \" + abstract).lower()\n",
    "        if text_lower in context and len(text.split()) <= 5 and text_lower in common_diseases:\n",
    "            return True\n",
    "            \n",
    "    return False\n",
    "\n",
    "def verify_disease_answer(text, title, abstract):\n",
    "    \"\"\"\n",
    "    Vérifie si la réponse est une maladie valide en contexte\n",
    "    \"\"\"\n",
    "    if isinstance(text, list):\n",
    "        text = ' '.join(text)\n",
    "    elif text is None:\n",
    "        return None\n",
    "\n",
    "    text = str(text).strip()\n",
    "    if len(text.split()) > 5 or not text:\n",
    "        return None\n",
    "\n",
    "    common_terms = {'study', 'research', 'analysis', 'investigation', 'method', 'reagent', \n",
    "                    'interaction', 'cells', 'sequencing', 'technology', 'mice', 'model', \n",
    "                    'implications', 'progenitor', 'nutrition', 'metagenomic', 'disease', \n",
    "                    'tumor', 'prognosis', 'progression'}\n",
    "    if any(term in text.lower() for term in common_terms):\n",
    "        return None\n",
    "        \n",
    "    return text if verify_disease(text, title, abstract) else None\n",
    "\n",
    "def clean_disease_responses(diseases):\n",
    "    \"\"\"\n",
    "    Nettoie, déduplique et limite à 3 DISEASE spécifiques, ignore la casse\n",
    "    \"\"\"\n",
    "    cleaned = set()\n",
    "    for disease in diseases:\n",
    "        disease_lower = disease.lower()\n",
    "        if not any(disease_lower in other.lower() for other in cleaned if disease_lower != other.lower()):\n",
    "            cleaned.add(disease)\n",
    "    \n",
    "    # Limiter à 3, prioriser les plus spécifiques\n",
    "    cleaned = sorted(list(cleaned), key=lambda x: len(x.split()), reverse=True)[:3]\n",
    "    return set(cleaned) if cleaned else {\"unspecified disease\"}\n",
    "\n",
    "def find_disease_in_title(title):\n",
    "    \"\"\"\n",
    "    Cherche une maladie spécifique dans le titre\n",
    "    \"\"\"\n",
    "    disease_patterns = [\n",
    "        r'(\\w+\\s)?cancer',\n",
    "        r'(\\w+\\s)?carcinoma',\n",
    "        r'(\\w+\\s)?disease',\n",
    "        r'(\\w+\\s)?disorder',\n",
    "        r'(\\w+\\s)?syndrome',\n",
    "        r'\\w+itis',\n",
    "        r'\\w+osis',\n",
    "        r'\\w+emia',\n",
    "        r'\\w+pathy'\n",
    "    ]\n",
    "    \n",
    "    for pattern in disease_patterns:\n",
    "        matches = re.finditer(pattern, title, re.IGNORECASE)\n",
    "        for match in matches:\n",
    "            candidate = match.group(0)\n",
    "            if verify_disease(candidate, title, None):\n",
    "                return candidate\n",
    "    return None"
   ]
  },
  {
   "cell_type": "markdown",
   "metadata": {},
   "source": [
    "##### Définition du modèle BioBERT"
   ]
  },
  {
   "cell_type": "code",
   "execution_count": null,
   "metadata": {},
   "outputs": [],
   "source": [
    "class QuestionDataset(Dataset):\n",
    "    def __init__(self, articles, questions):\n",
    "        self.examples = []\n",
    "        for article in articles:\n",
    "            text = f\"{article['Article Title']}. {article['abstract']}\"\n",
    "            disease_questions = questions['DISEASE']\n",
    "            self.examples.extend([{\n",
    "                'pmid': article['pmid'],\n",
    "                'question': q,\n",
    "                'context': text,\n",
    "                'category': 'DISEASE'\n",
    "            } for q in disease_questions])\n",
    "            \n",
    "            for category, category_questions in questions.items():\n",
    "                if category != 'DISEASE':\n",
    "                    self.examples.extend([{\n",
    "                        'pmid': article['pmid'],\n",
    "                        'question': q,\n",
    "                        'context': text,\n",
    "                        'category': category\n",
    "                    } for q in category_questions])\n",
    "\n",
    "    def __len__(self):\n",
    "        return len(self.examples)\n",
    "\n",
    "    def __getitem__(self, idx):\n",
    "        return self.examples[idx]\n",
    "\n",
    "def load_articles(limit=50):\n",
    "    file_path = '/Users/nadiabenyoussef/Projet NLP/scraping/articles.json'\n",
    "    with open(file_path, 'r') as file:\n",
    "        articles = json.load(file)\n",
    "    return articles[:limit]"
   ]
  },
  {
   "cell_type": "code",
   "execution_count": null,
   "metadata": {
    "execution": {
     "iopub.execute_input": "2025-03-02T13:38:02.164137Z",
     "iopub.status.busy": "2025-03-02T13:38:02.163843Z",
     "iopub.status.idle": "2025-03-02T13:38:25.094879Z",
     "shell.execute_reply": "2025-03-02T13:38:25.094121Z",
     "shell.execute_reply.started": "2025-03-02T13:38:02.164116Z"
    },
    "trusted": true
   },
   "outputs": [
    {
     "name": "stdout",
     "output_type": "stream",
     "text": [
      "Initialisation du modèle BioBERT...\n"
     ]
    },
    {
     "data": {
      "application/vnd.jupyter.widget-view+json": {
       "model_id": "a28c275fb9614dc397fc760fbf23d221",
       "version_major": 2,
       "version_minor": 0
      },
      "text/plain": [
       "config.json:   0%|          | 0.00/631 [00:00<?, ?B/s]"
      ]
     },
     "metadata": {},
     "output_type": "display_data"
    },
    {
     "data": {
      "application/vnd.jupyter.widget-view+json": {
       "model_id": "231a97a1db5e45a69ef52d263b2a9b50",
       "version_major": 2,
       "version_minor": 0
      },
      "text/plain": [
       "vocab.txt:   0%|          | 0.00/467k [00:00<?, ?B/s]"
      ]
     },
     "metadata": {},
     "output_type": "display_data"
    },
    {
     "name": "stderr",
     "output_type": "stream",
     "text": [
      "/usr/local/lib/python3.10/dist-packages/transformers/tokenization_utils_base.py:1601: FutureWarning: `clean_up_tokenization_spaces` was not set. It will be set to `True` by default. This behavior will be depracted in transformers v4.45, and will be then set to `False` by default. For more details check this issue: https://github.com/huggingface/transformers/issues/31884\n",
      "  warnings.warn(\n"
     ]
    },
    {
     "data": {
      "application/vnd.jupyter.widget-view+json": {
       "model_id": "6a8efce3f2294e91b43172ceda044402",
       "version_major": 2,
       "version_minor": 0
      },
      "text/plain": [
       "pytorch_model.bin:   0%|          | 0.00/1.45G [00:00<?, ?B/s]"
      ]
     },
     "metadata": {},
     "output_type": "display_data"
    },
    {
     "name": "stdout",
     "output_type": "stream",
     "text": [
      "Modèle chargé sur GPU\n",
      "Pipeline configuré\n"
     ]
    }
   ],
   "source": [
    "print(\"Initialisation du modèle BioBERT...\")\n",
    "tokenizer = AutoTokenizer.from_pretrained(\"dmis-lab/biobert-large-cased-v1.1-squad\")\n",
    "model = AutoModelForQuestionAnswering.from_pretrained(\"dmis-lab/biobert-large-cased-v1.1-squad\")\n",
    "\n",
    "device = 0 if torch.cuda.is_available() else -1\n",
    "if device == 0:\n",
    "    model = model.to('cuda')\n",
    "    print(\"Modèle chargé sur GPU\")\n",
    "else:\n",
    "    print(\"Modèle chargé sur CPU\")\n",
    "\n",
    "qa_pipeline = pipeline(\n",
    "    \"question-answering\",\n",
    "    model=model,\n",
    "    tokenizer=tokenizer,\n",
    "    device=device,\n",
    "    batch_size=16\n",
    ")\n",
    "print(\"Pipeline configuré\")\n",
    "\n",
    "QUESTIONS = {\n",
    "    'DISEASE': [\n",
    "        \"What disease or medical condition is mentioned?\",\n",
    "        \"What type of cancer is discussed?\",\n",
    "        \"What is the main disease being studied?\",\n",
    "        \"What specific tumor type is mentioned?\",\n",
    "        \"What pathology is described?\",\n",
    "        \"What medical condition is investigated?\",\n",
    "        \"What disease is the focus of this research?\",\n",
    "        \"What syndrome or disorder is discussed?\",\n",
    "        \"What disease or disorder is being treated?\",\n",
    "        \"What medical condition does this study focus on?\",\n",
    "        \"What is the pathological condition studied?\",\n",
    "        \"What disease or syndrome is being investigated?\",\n",
    "        \"What specific medical diagnosis is discussed?\",\n",
    "        \"What health condition is being researched?\",\n",
    "        \"What is the main pathology in this study?\",\n",
    "        \"What disease are the researchers studying?\",\n",
    "        \"What neurodegenerative disease is discussed?\",\n",
    "        \"What type of cancer is being investigated?\",\n",
    "        \"What chronic condition is being studied?\", \n",
    "        \"Based on the title and description, what is the primary disease investigated?\",\n",
    "        \"Reading the full text, what is the main medical condition being researched?\",\n",
    "        \"Considering both the title and abstract, what disease is being studied?\",\n",
    "        \"What disease are the researchers studying in this work?\",\n",
    "        \"What is the primary medical condition discussed in this research?\",\n",
    "        \"Which specific disease or disorder is being investigated here?\",\n",
    "        \"What is the main pathology addressed in this study?\",\n",
    "        \"What medical condition is the focus of this research?\"\n",
    "    ],\n",
    "    'CELL_TYPE': [\n",
    "        \"What cell types are mentioned?\",\n",
    "        \"What are all the cell types described in the text?\",\n",
    "        \"What specific types of stem cells are discussed?\",\n",
    "        \"What type of cells are being studied?\",\n",
    "        \"What cellular components are investigated?\",\n",
    "        \"What type of immune cells are mentioned?\",\n",
    "        \"What specific cell populations are studied?\",\n",
    "        \"What cell lineages are discussed?\"\n",
    "    ]\n",
    "}"
   ]
  },
  {
   "cell_type": "markdown",
   "metadata": {},
   "source": [
    "#### Prétraitement des donnees"
   ]
  },
  {
   "cell_type": "code",
   "execution_count": 5,
   "metadata": {
    "execution": {
     "iopub.execute_input": "2025-03-02T13:38:38.503270Z",
     "iopub.status.busy": "2025-03-02T13:38:38.502965Z",
     "iopub.status.idle": "2025-03-02T13:38:38.512077Z",
     "shell.execute_reply": "2025-03-02T13:38:38.511168Z",
     "shell.execute_reply.started": "2025-03-02T13:38:38.503225Z"
    },
    "trusted": true
   },
   "outputs": [],
   "source": [
    "def refine_disease_text(text):\n",
    "    \"\"\"\n",
    "    Nettoie et reformate les réponses de l'annotation pour éviter les erreurs courantes.\n",
    "    \"\"\"\n",
    "    text = re.sub(r'\\bis\\s+a\\b', '', text)\n",
    "    text = re.sub(r'\\bhighly\\b', '', text)\n",
    "    text = re.sub(r'\\bassociated with\\b', '', text)\n",
    "    text = text.strip()\n",
    "    return text\n",
    "\n",
    "def clean_duplicate_diseases(diseases):\n",
    "    \"\"\"\n",
    "    Supprime les redondances et limite à 3 DISEASE spécifiques, ignore la casse.\n",
    "    \"\"\"\n",
    "    cleaned = set()\n",
    "    disease_dict = {}  # Pour suivre les variantes avec casse différente\n",
    "    \n",
    "    for disease in diseases:\n",
    "        clean_disease = re.sub(r'\\s*\\(.*?\\)', '', disease).strip()\n",
    "        clean_lower = clean_disease.lower()\n",
    "        \n",
    "        # Si une variante existe déjà (en minuscule), garder la première forme rencontrée\n",
    "        if clean_lower not in disease_dict:\n",
    "            disease_dict[clean_lower] = clean_disease\n",
    "            if not any(clean_lower in other.lower() and clean_lower != other.lower() for other in cleaned):\n",
    "                cleaned.add(clean_disease)\n",
    "            else:\n",
    "                for other in list(cleaned):\n",
    "                    if other.lower() in clean_lower and len(clean_disease) > len(other):\n",
    "                        cleaned.remove(other)\n",
    "                        cleaned.add(clean_disease)\n",
    "    \n",
    "    # Limiter à 3, prioriser les plus spécifiques\n",
    "    cleaned = sorted(list(cleaned), key=lambda x: len(x.split()), reverse=True)[:3]\n",
    "    return set(cleaned) if cleaned else {\"unspecified disease\"}\n",
    "\n",
    "def filter_cell_types(cell_types):\n",
    "    \"\"\"\n",
    "    Filtre les faux positifs de CELL_TYPE avec une liste stricte.\n",
    "    \"\"\"\n",
    "    excluded_terms = {\"technology\", \"research\", \"biomarker\", \"analysis\", \"study\", \n",
    "                      \"genetics\", \"biology\", \"method\", \"RNA\", \"DNA\", \"pathway\", \n",
    "                      \"unknown\", \"control\", \"data\", \"inflammation\", \"cancer\", \n",
    "                      \"meat\", \"abstract\", \"sequencing\", \"mice\", \"model\", \"implications\",\n",
    "                      \"nutrition\", \"metagenomic\", \"disease\",  \"growth\", \"prognosis\"}\n",
    "    valid_cell_types = {\"hepatocytes\", \"stem cells\", \"immune cells\", \"plasma cells\", \n",
    "                        \"macrophages\", \"b-lineage cells\", \"t cells\", \"glial cells\", \n",
    "                        \"neurons\", \"epithelial cells\", \"tumor cells\", \"progenitor cells\",\n",
    "                        \"hcc progenitor\", \"differentiated hepatocytes\", \"somatic cells\",\n",
    "                        \"endothelial cells\", \"fibroblasts\", \"mast cells\", \"nk cells\"}\n",
    "    \n",
    "    filtered = set()\n",
    "    \n",
    "    for cell in cell_types:\n",
    "        cell_lower = cell.lower()\n",
    "        if any(term in cell_lower for term in excluded_terms) or len(cell.split()) > 3:\n",
    "            continue\n",
    "        \n",
    "        clean_cell = re.sub(r'\\s*\\(.*?\\)', '', cell).strip()\n",
    "        if any(valid in cell_lower for valid in valid_cell_types) and len(clean_cell.split()) <= 3:\n",
    "            filtered.add(clean_cell)\n",
    "    \n",
    "    return filtered"
   ]
  },
  {
   "cell_type": "code",
   "execution_count": 6,
   "metadata": {
    "execution": {
     "iopub.execute_input": "2025-03-02T13:38:44.507068Z",
     "iopub.status.busy": "2025-03-02T13:38:44.506681Z",
     "iopub.status.idle": "2025-03-02T13:38:44.520501Z",
     "shell.execute_reply": "2025-03-02T13:38:44.519627Z",
     "shell.execute_reply.started": "2025-03-02T13:38:44.507034Z"
    },
    "trusted": true
   },
   "outputs": [],
   "source": [
    "def process_batch(articles, qa_pipeline):\n",
    "    dataset = QuestionDataset(articles, QUESTIONS)\n",
    "    all_answers = qa_pipeline(dataset, batch_size=16)\n",
    "\n",
    "    results = {}\n",
    "    for i, answer in enumerate(all_answers):\n",
    "        item = dataset.examples[i]\n",
    "        pmid = item['pmid']\n",
    "        category = item['category']\n",
    "\n",
    "        if pmid not in results:\n",
    "            results[pmid] = {\n",
    "                \"pmid\": pmid,\n",
    "                \"title\": next(art['Article Title'] for art in articles if art['pmid'] == pmid),\n",
    "                \"annotations\": {\"DISEASE\": set(), \"CELL_TYPE\": set()}\n",
    "            }\n",
    "\n",
    "        answer_text = clean_entity(answer['answer'])\n",
    "        if answer_text:\n",
    "            title = results[pmid][\"title\"]\n",
    "            abstract = next(art['abstract'] for art in articles if art['pmid'] == pmid)\n",
    "            validated_disease = verify_disease_answer(answer_text, title, abstract)\n",
    "\n",
    "            if validated_disease and len(results[pmid][\"annotations\"][\"DISEASE\"]) < 3:\n",
    "                refined_disease = refine_disease_text(validated_disease)\n",
    "                if verify_disease(refined_disease, title, abstract):\n",
    "                    results[pmid][\"annotations\"][\"DISEASE\"].add(refined_disease)\n",
    "            \n",
    "            if category == \"CELL_TYPE\":\n",
    "                clean_cell = clean_entity(answer_text)\n",
    "                if clean_cell and len(clean_cell.split()) <= 3:\n",
    "                    results[pmid][\"annotations\"][\"CELL_TYPE\"].add(clean_cell)\n",
    "\n",
    "    # Forcer une DISEASE si absente\n",
    "    common_diseases = {'hepatocellular carcinoma', 'breast cancer', 'gastric cancer', 'lung cancer',\n",
    "                       'glioblastoma', 'alzheimer\\'s disease', 'cardiovascular disease', 'diabetes',\n",
    "                       'osteoarthritis', 'autoimmune diseases', 'inflammatory bowel disease',\n",
    "                       'pancreatic cancer', 'cervical cancer', 'endometriosis', 'ferroptosis'}\n",
    "    for pmid, data in results.items():\n",
    "        if not data[\"annotations\"][\"DISEASE\"]:\n",
    "            disease_from_title = find_disease_in_title(data[\"title\"])\n",
    "            if disease_from_title:\n",
    "                data[\"annotations\"][\"DISEASE\"].add(disease_from_title)\n",
    "            else:\n",
    "                abstract = next(art['abstract'] for art in articles if art['pmid'] == pmid)\n",
    "                context = (data[\"title\"] + \" \" + abstract).lower()\n",
    "                for disease in common_diseases:\n",
    "                    if disease in context:\n",
    "                        data[\"annotations\"][\"DISEASE\"].add(disease)\n",
    "                        break\n",
    "                if not data[\"annotations\"][\"DISEASE\"]:\n",
    "                    data[\"annotations\"][\"DISEASE\"].add(\"unspecified disease\")\n",
    "\n",
    "    # Nettoyer DISEASE et CELL_TYPE\n",
    "    for pmid in results:\n",
    "        diseases = results[pmid][\"annotations\"][\"DISEASE\"]\n",
    "        results[pmid][\"annotations\"][\"DISEASE\"] = clean_duplicate_diseases(diseases)\n",
    "        cell_types = results[pmid][\"annotations\"][\"CELL_TYPE\"]\n",
    "        results[pmid][\"annotations\"][\"CELL_TYPE\"] = filter_cell_types(cell_types)\n",
    "\n",
    "    return results"
   ]
  },
  {
   "cell_type": "code",
   "execution_count": 7,
   "metadata": {
    "execution": {
     "iopub.execute_input": "2025-03-02T13:38:49.718915Z",
     "iopub.status.busy": "2025-03-02T13:38:49.718620Z",
     "iopub.status.idle": "2025-03-02T13:38:49.724081Z",
     "shell.execute_reply": "2025-03-02T13:38:49.723049Z",
     "shell.execute_reply.started": "2025-03-02T13:38:49.718890Z"
    },
    "trusted": true
   },
   "outputs": [],
   "source": [
    "def display_results(results):\n",
    "    print(\"\\nRésultats de l'annotation :\")\n",
    "    for pmid, data in results.items():\n",
    "        print(f\"\\nPMID: {pmid}\")\n",
    "        print(f\"Titre: {data['title']}\")\n",
    "\n",
    "        if \"DISEASE\" in data[\"annotations\"] and data[\"annotations\"][\"DISEASE\"]:\n",
    "            print(\"DISEASE:\")\n",
    "            for item in sorted(data[\"annotations\"][\"DISEASE\"]):\n",
    "                print(f\"  - {item}\")\n",
    "\n",
    "        if \"CELL_TYPE\" in data[\"annotations\"] and data[\"annotations\"][\"CELL_TYPE\"]:\n",
    "            print(\"CELL_TYPE:\")\n",
    "            for item in sorted(data[\"annotations\"][\"CELL_TYPE\"]):\n",
    "                print(f\"  - {item}\")"
   ]
  },
  {
   "cell_type": "code",
   "execution_count": 58,
   "metadata": {
    "execution": {
     "iopub.execute_input": "2025-03-01T23:01:57.523341Z",
     "iopub.status.busy": "2025-03-01T23:01:57.523061Z",
     "iopub.status.idle": "2025-03-01T23:02:51.236810Z",
     "shell.execute_reply": "2025-03-01T23:02:51.235948Z",
     "shell.execute_reply.started": "2025-03-01T23:01:57.523319Z"
    },
    "trusted": true
   },
   "outputs": [
    {
     "name": "stdout",
     "output_type": "stream",
     "text": [
      "\n",
      "Résultats de l'annotation :\n",
      "\n",
      "PMID: 39743585\n",
      "Titre: FBP1 controls liver cancer evolution from senescent MASH hepatocytes.\n",
      "DISEASE:\n",
      "  - Hepatocellular carcinoma\n",
      "  - metabolic-dysfunction-associated steatohepatitis\n",
      "CELL_TYPE:\n",
      "  - HCC progenitor\n",
      "  - HCC progenitor cells4,5\n",
      "  - differentiated hepatocytes\n",
      "  - hepatocytes\n",
      "  - senescent MASH hepatocytes\n",
      "\n",
      "PMID: 39743589\n",
      "Titre: Aspartate signalling drives lung metastasis via alternative translation.\n",
      "DISEASE:\n",
      "  - breast cancer\n",
      "CELL_TYPE:\n",
      "  - immune cells\n",
      "\n",
      "PMID: 39753770\n",
      "Titre: Blood DNA virome associates with autoimmune diseases and COVID-19.\n",
      "DISEASE:\n",
      "  - multiple sclerosis\n",
      "\n",
      "PMID: 39755327\n",
      "Titre: Implications of an Off-Hours Setting in Patients Undergoing Transcatheter Edge-to-Edge Repair for Mitral Regurgitation.\n",
      "DISEASE:\n",
      "  - unspecified disease\n",
      "\n",
      "PMID: 39753140\n",
      "Titre: Infiltrating plasma cells maintain glioblastoma stem cells through IgG-Tumor binding.\n",
      "DISEASE:\n",
      "  - Glioblastoma\n",
      "CELL_TYPE:\n",
      "  - B-lineage cells\n",
      "  - Plasma cells\n",
      "  - glioblastoma stem cells\n",
      "  - tumor-infiltrating B-lineage cells\n",
      "\n",
      "PMID: 39753865\n",
      "Titre: ABCF1-K430-Lactylation promotes HCC malignant progression via transcriptional activation of HIF1 signaling pathway.\n",
      "DISEASE:\n",
      "  - hepatocellular carcinoma\n",
      "\n",
      "PMID: 39753131\n",
      "Titre: Evolutionary study and structural basis of proton sensing by Mus GPR4 and Xenopus GPR4.\n",
      "DISEASE:\n",
      "  - unspecified disease\n",
      "\n",
      "PMID: 39748037\n",
      "Titre: Author Correction: Oxidative cyclization reagents reveal tryptophan cation-π interactions.\n",
      "DISEASE:\n",
      "  - unspecified disease\n",
      "\n",
      "PMID: 39753713\n",
      "Titre: NUFIP1 integrates amino acid sensing and DNA damage response to maintain the intestinal homeostasis.\n",
      "DISEASE:\n",
      "  - necroptosis-related spontaneous enteritis\n",
      "\n",
      "PMID: 39753750\n",
      "Titre: Plasma proteomic signatures of social isolation and loneliness associated with morbidity and mortality.\n",
      "DISEASE:\n",
      "  - cardiovascular disease\n",
      "\n",
      "PMID: 39753334\n",
      "Titre: Construction of exosome non-coding RNA feature for non-invasive, early detection of gastric cancer patients by machine learning: a multi-cohort study.\n",
      "DISEASE:\n",
      "  - gastric cancer\n",
      "\n",
      "PMID: 39753132\n",
      "Titre: Molecular basis of proton sensing by G protein-coupled receptors.\n",
      "DISEASE:\n",
      "  - unspecified disease\n",
      "\n",
      "PMID: 39747695\n",
      "Titre: Gut-liver translocation of pathogen Klebsiella pneumoniae promotes hepatocellular carcinoma in mice.\n",
      "DISEASE:\n",
      "  - Hepatocellular carcinoma\n",
      "  - liver inflammation, fibrosis\n",
      "\n",
      "PMID: 39753706\n",
      "Titre: A rapid chemical reprogramming system to generate human pluripotent stem cells.\n",
      "DISEASE:\n",
      "  - unspecified disease\n",
      "CELL_TYPE:\n",
      "  - somatic cells\n",
      "\n",
      "PMID: 39742811\n",
      "Titre: Transplantation of gasdermin pores by extracellular vesicles propagates pyroptosis to bystander cells.\n",
      "DISEASE:\n",
      "  - unspecified disease\n",
      "\n",
      "PMID: 39749935\n",
      "Titre: Large-Scale Plasma Proteomics Improves Prediction of Peripheral Artery Disease in Individuals With Type 2 Diabetes: A Prospective Cohort Study.\n",
      "DISEASE:\n",
      "  - Artery Disease\n",
      "\n",
      "PMID: 39753382\n",
      "Titre: You are what you eat-should it be all meat?: Impact of the carnivore diet on the risk of kidney stone development.\n",
      "DISEASE:\n",
      "  - unspecified disease\n",
      "\n",
      "PMID: 39743592\n",
      "Titre: Brain-wide cell-type-specific transcriptomic signatures of healthy ageing in mice.\n",
      "DISEASE:\n",
      "  - unspecified disease\n",
      "\n",
      "PMID: 39753529\n",
      "Titre: Macrophage STING signaling promotes fibrosis in benign airway stenosis via an IL6-STAT3 pathway.\n",
      "DISEASE:\n",
      "  - benign airway stenosis\n",
      "  - tracheal fibrosis\n",
      "CELL_TYPE:\n",
      "  - damaged epithelial cells\n",
      "  - epithelial cells\n",
      "  - macrophages\n",
      "\n",
      "PMID: 39755397\n",
      "Titre: Osteoarthritis.\n",
      "DISEASE:\n",
      "  - Osteoarthritis  heterogeneous disorder\n",
      "\n",
      "PMID: 39753133\n",
      "Titre: Anti-herpetic tau preserves neurons via the cGAS-STING-TBK1 pathway in Alzheimer's disease.\n",
      "DISEASE:\n",
      "  - s disease\n",
      "CELL_TYPE:\n",
      "  - neurons\n",
      "\n",
      "PMID: 39748335\n",
      "Titre: Joint association of the inflammatory marker and cardiovascular-kidney-metabolic syndrome stages with all-cause and cardiovascular disease mortality: a national prospective study.\n",
      "DISEASE:\n",
      "  - cardiovascular-kidney-metabolic syndrome\n",
      "\n",
      "PMID: 39747483\n",
      "Titre: A feeding-induced myokine modulates glucose homeostasis.\n",
      "DISEASE:\n",
      "  - diabetes\n",
      "  - hypo- or hyperglycaemia\n",
      "\n",
      "PMID: 39752299\n",
      "Titre: Cervical Cancer.\n",
      "DISEASE:\n",
      "  - Cervical Cancer\n",
      "\n",
      "PMID: 39754185\n",
      "Titre: Association between remnant cholesterol (RC) and endometriosis: a cross-sectional study based on NHANES data.\n",
      "DISEASE:\n",
      "  - endometriosis\n",
      "\n",
      "PMID: 39744941\n",
      "Titre: APP lysine 612 lactylation ameliorates amyloid pathology and memory decline in Alzheimer's disease.\n",
      "DISEASE:\n",
      "  - s disease\n",
      "\n",
      "PMID: 39753749\n",
      "Titre: Gene-level analysis reveals the genetic aetiology and therapeutic targets of schizophrenia.\n",
      "DISEASE:\n",
      "  - unspecified disease\n",
      "\n",
      "PMID: 39748364\n",
      "Titre: circASAP1 induces renal clear cell carcinoma ferroptosis by binding to HNRNPC and thereby regulating GPX4.\n",
      "DISEASE:\n",
      "  - ferroptosis\n",
      "  - renal clear cell carcinoma\n",
      "  - renal clear cell carcinoma ferroptosis\n",
      "\n",
      "PMID: 39742310\n",
      "Titre: iMeta Conference 2024: Building an innovative scientific research ecosystem for microbiome and One Health.\n",
      "DISEASE:\n",
      "  - unspecified disease\n",
      "\n",
      "PMID: 39748408\n",
      "Titre: Gastric cancer-derived exosomal let-7 g-5p mediated by SERPINE1 promotes macrophage M2 polarization and gastric cancer progression.\n",
      "DISEASE:\n",
      "  - Gastric cancer\n",
      "\n",
      "PMID: 39755135\n",
      "Titre: Online Marketing of Alternative Medicine for Heart Failure: An Assessment of Amazon.com.\n",
      "DISEASE:\n",
      "  - Alternative Medicine for Heart Failure\n",
      "\n",
      "PMID: 39752330\n",
      "Titre: Global, regional, and national prevalence and trends of infertility among individuals of reproductive age (15-49 years) from 1990 to 2021, with projections to 2040.\n",
      "DISEASE:\n",
      "  - unspecified disease\n",
      "\n",
      "PMID: 39747873\n",
      "Titre: The protein circPETH-147aa regulates metabolic reprogramming in hepatocellular carcinoma cells to remodel immunosuppressive microenvironment.\n",
      "DISEASE:\n",
      "  - cancer cell metastasis\n",
      "  - hepatocellular carcinoma\n",
      "CELL_TYPE:\n",
      "  - tumor-associated macrophages\n",
      "\n",
      "PMID: 39749919\n",
      "Titre: Global, regional, and national burden of primary liver cancer attributable to metabolic risks: an analysis of the Global Burden of Disease Study 1990-2021.\n",
      "DISEASE:\n",
      "  - primary liver cancer\n",
      "\n",
      "PMID: 39752535\n",
      "Titre: Functional differences between rodent and human PD-1 linked to evolutionary divergence.\n",
      "DISEASE:\n",
      "  - unspecified disease\n",
      "CELL_TYPE:\n",
      "  - CD8+ T cells\n",
      "\n",
      "PMID: 39748260\n",
      "Titre: Global, regional, and national burden of chronic obstructive pulmonary disease and its attributable risk factors from 1990 to 2021: an analysis for the Global Burden of Disease Study 2021.\n",
      "DISEASE:\n",
      "  - pulmonary disease\n",
      "\n",
      "PMID: 39753968\n",
      "Titre: Clinicogenomic landscape of pancreatic adenocarcinoma identifies KRAS mutant dosage as prognostic of overall survival.\n",
      "DISEASE:\n",
      "  - Clinicogenomic landscape of pancreatic adenocarcinoma\n",
      "\n",
      "PMID: 39755430\n",
      "Titre: Breaking the link: IL-6 targeting to uncouple toxicity and efficacy in patients treated with immune checkpoint blockade.\n",
      "DISEASE:\n",
      "  - unspecified disease\n",
      "\n",
      "PMID: 39752537\n",
      "Titre: NEK7 phosphorylation amplifies NLRP3 inflammasome activation downstream of potassium efflux and gasdermin D.\n",
      "DISEASE:\n",
      "  - unspecified disease\n",
      "CELL_TYPE:\n",
      "  - macrophages\n",
      "\n",
      "PMID: 39754188\n",
      "Titre: CYP3A5 promotes glioblastoma stemness and chemoresistance through fine-tuning NAD+/NADH ratio.\n",
      "DISEASE:\n",
      "  - glioblastoma\n",
      "\n",
      "PMID: 39745352\n",
      "Titre: MICAL2 Promotes Pancreatic Cancer Growth and Metastasis.\n",
      "DISEASE:\n",
      "  - Pancreatic ductal adenocarcinoma\n",
      "\n",
      "PMID: 36918434\n",
      "Titre: Mediators of outcome in adolescent psychotherapy and their implications for theories and mechanisms of change: a systematic review.\n",
      "DISEASE:\n",
      "  - age-, disorder- or treatment-specific mediators\n",
      "  - studied mediators were not disorder-specific\n",
      "\n",
      "PMID: 39754096\n",
      "Titre: Associations between heavy metal exposure and vascular age: a large cross-sectional study.\n",
      "DISEASE:\n",
      "  - unspecified disease\n",
      "\n",
      "PMID: 39753970\n",
      "Titre: Personalized, autologous neoantigen-specific T cell therapy in metastatic melanoma: a phase 1 trial.\n",
      "DISEASE:\n",
      "  - macrophage activation syndromes\n",
      "\n",
      "PMID: 39752608\n",
      "Titre: Improved Patient-Reported Outcomes With Post-Transplant Cyclophosphamide: A Quality-of-Life Evaluation and 2-Year Outcomes of BMT CTN 1703.\n",
      "DISEASE:\n",
      "  - hemorrhagic cystitis\n",
      "\n",
      "PMID: 39753671\n",
      "Titre: Bacteria use exogenous peptidoglycan as a danger signal to trigger biofilm formation.\n",
      "DISEASE:\n",
      "  - unspecified disease\n",
      "\n",
      "PMID: 39746397\n",
      "Titre: The Relationship Between A High-Fat Diet, Gut Microbiome, and Systemic Chronic Inflammation: Insights from Integrated Multi-Omics Analysis.\n",
      "DISEASE:\n",
      "  - unspecified disease\n",
      "\n",
      "PMID: 39743593\n",
      "Titre: Bone marrow niches orchestrate stem-cell hierarchy and immune tolerance.\n",
      "DISEASE:\n",
      "  - unspecified disease\n",
      "CELL_TYPE:\n",
      "  - haematopoietic stem cells\n",
      "  - heterogeneous stem cells\n",
      "\n",
      "PMID: 39756460\n",
      "Titre: Frances Krauskopf Conley.\n",
      "DISEASE:\n",
      "  - unspecified disease\n"
     ]
    }
   ],
   "source": [
    "articles = load_articles(50)\n",
    "results = process_batch(articles, qa_pipeline)\n",
    "display_results(results)"
   ]
  },
  {
   "cell_type": "markdown",
   "metadata": {},
   "source": [
    "-----"
   ]
  },
  {
   "cell_type": "code",
   "execution_count": null,
   "metadata": {
    "execution": {
     "iopub.execute_input": "2025-03-02T13:39:04.774216Z",
     "iopub.status.busy": "2025-03-02T13:39:04.773907Z",
     "iopub.status.idle": "2025-03-02T13:39:04.792448Z",
     "shell.execute_reply": "2025-03-02T13:39:04.791742Z",
     "shell.execute_reply.started": "2025-03-02T13:39:04.774188Z"
    },
    "trusted": true
   },
   "outputs": [
    {
     "name": "stdout",
     "output_type": "stream",
     "text": [
      "Chargement des articles...\n",
      "Nombre d'articles chargés : 949\n",
      "\n",
      "Exemple d'article :\n",
      "{\n",
      "  \"Article Title\": \"FBP1 controls liver cancer evolution from senescent MASH hepatocytes.\",\n",
      "  \"pmid\": \"39743585\",\n",
      "  \"authors\": \"Gu L, Zhu Y, Nandi SP, Lee M, Watari K, Bareng B, Ohira M, Liu Y, Sakane S, Carlessi R, Sauceda C, Dhar D, Ganguly S, Hosseini M, Teneche MG, Adams PD, Gonzalez DJ, Kisseleva T; Liver Cancer Collaborative; Tirnitz-Parker JEE, Simon MC, Alexandrov LB, Karin M.\",\n",
      "  \"source\": \"Nature\",\n",
      "  \"publication_date\": \"2025 Jan 1.\",\n",
      "  \"abstract\": \"Hepatocellular carcinoma (HCC) originates from differentiated hepatocytes undergoing compensatory proliferation in livers damaged by viruses or metabolic-dysfunction-associated steatohepatitis (MASH)1. While increasing HCC risk2, MASH triggers p53-dependent hepatocyte senescence3, which we found to parallel hypernutrition-induced DNA breaks. How this tumour-suppressive response is bypassed to license oncogenic mutagenesis and enable HCC evolution was previously unclear. Here we identified the gluconeogenic enzyme fructose-1,6-bisphosphatase 1 (FBP1) as a p53 target that is elevated in senescent-like MASH hepatocytes but suppressed through promoter hypermethylation and proteasomal degradation in most human HCCs. FBP1 first declines in metabolically stressed premalignant disease-associated hepatocytes and HCC progenitor cells4,5, paralleling the protumorigenic activation of AKT and NRF2. By accelerating FBP1 and p53 degradation, AKT and NRF2 enhance the proliferation and metabolic activity of previously senescent HCC progenitors. The senescence-reversing and proliferation-supportive NRF2-FBP1-AKT-p53 metabolic switch, operative in mice and humans, also enhances the accumulation of DNA-damage-induced somatic mutations needed for MASH-to-HCC progression.\",\n",
      "  \"doi\": \"10.1038/s41586-024-08317-9\",\n",
      "  \"keywords\": \"NO_KEYWORDS\"\n",
      "}\n"
     ]
    }
   ],
   "source": [
    "def load_articles():\n",
    "    file_path = '/Users/nadiabenyoussef/Projet NLP/scraping/articles.json'\n",
    "    \n",
    "    print(\"Chargement des articles...\")\n",
    "    try:\n",
    "        with open(file_path, 'r') as file:\n",
    "            articles = json.load(file)\n",
    "        print(f\"Nombre d'articles chargés : {len(articles)}\")\n",
    "        print(\"\\nExemple d'article :\")\n",
    "        print(json.dumps(articles[0], indent=2))\n",
    "        \n",
    "        return articles\n",
    "    except Exception as e:\n",
    "        print(f\"Erreur lors du chargement : {e}\")\n",
    "        return None\n",
    "\n",
    "articles = load_articles()"
   ]
  },
  {
   "cell_type": "code",
   "execution_count": 10,
   "metadata": {
    "execution": {
     "iopub.execute_input": "2025-03-02T13:39:23.069453Z",
     "iopub.status.busy": "2025-03-02T13:39:23.069117Z",
     "iopub.status.idle": "2025-03-02T13:58:55.259009Z",
     "shell.execute_reply": "2025-03-02T13:58:55.258139Z",
     "shell.execute_reply.started": "2025-03-02T13:39:23.069427Z"
    },
    "trusted": true
   },
   "outputs": [
    {
     "name": "stdout",
     "output_type": "stream",
     "text": [
      "Annotation terminée !\n"
     ]
    }
   ],
   "source": [
    "#articles = load_articles()  \n",
    "results = process_batch(articles, qa_pipeline)\n",
    "print(f\"Annotation terminée !\")\n",
    "#display_results(results) "
   ]
  },
  {
   "cell_type": "code",
   "execution_count": null,
   "metadata": {
    "execution": {
     "iopub.execute_input": "2025-03-02T14:00:28.042326Z",
     "iopub.status.busy": "2025-03-02T14:00:28.042012Z",
     "iopub.status.idle": "2025-03-02T14:00:28.055027Z",
     "shell.execute_reply": "2025-03-02T14:00:28.053170Z",
     "shell.execute_reply.started": "2025-03-02T14:00:28.042301Z"
    },
    "trusted": true
   },
   "outputs": [
    {
     "name": "stdout",
     "output_type": "stream",
     "text": [
      "\n",
      "Résultats de l'annotation :\n",
      "\n",
      "PMID: 39743585\n",
      "Titre: FBP1 controls liver cancer evolution from senescent MASH hepatocytes.\n",
      "DISEASE:\n",
      "  - Hepatocellular carcinoma\n",
      "  - metabolic-dysfunction-associated steatohepatitis\n",
      "CELL_TYPE:\n",
      "  - HCC progenitor\n",
      "  - HCC progenitor cells4,5\n",
      "  - differentiated hepatocytes\n",
      "  - hepatocytes\n",
      "  - senescent MASH hepatocytes\n",
      "\n",
      "PMID: 39743589\n",
      "Titre: Aspartate signalling drives lung metastasis via alternative translation.\n",
      "DISEASE:\n",
      "  - breast cancer\n",
      "CELL_TYPE:\n",
      "  - immune cells\n",
      "\n",
      "PMID: 39753770\n",
      "Titre: Blood DNA virome associates with autoimmune diseases and COVID-19.\n",
      "DISEASE:\n",
      "  - multiple sclerosis\n",
      "\n",
      "PMID: 39755327\n",
      "Titre: Implications of an Off-Hours Setting in Patients Undergoing Transcatheter Edge-to-Edge Repair for Mitral Regurgitation.\n",
      "DISEASE:\n",
      "  - unspecified disease\n",
      "\n",
      "PMID: 39753140\n",
      "Titre: Infiltrating plasma cells maintain glioblastoma stem cells through IgG-Tumor binding.\n",
      "DISEASE:\n",
      "  - glioblastoma\n",
      "CELL_TYPE:\n",
      "  - B-lineage cells\n",
      "  - Plasma cells\n",
      "  - glioblastoma stem cells\n",
      "  - tumor-infiltrating B-lineage cells\n",
      "\n",
      "PMID: 39753865\n",
      "Titre: ABCF1-K430-Lactylation promotes HCC malignant progression via transcriptional activation of HIF1 signaling pathway.\n",
      "DISEASE:\n",
      "  - hepatocellular carcinoma\n",
      "\n",
      "PMID: 39753131\n",
      "Titre: Evolutionary study and structural basis of proton sensing by Mus GPR4 and Xenopus GPR4.\n",
      "DISEASE:\n",
      "  - unspecified disease\n",
      "\n",
      "PMID: 39748037\n",
      "Titre: Author Correction: Oxidative cyclization reagents reveal tryptophan cation-π interactions.\n",
      "DISEASE:\n",
      "  - unspecified disease\n",
      "\n",
      "PMID: 39753713\n",
      "Titre: NUFIP1 integrates amino acid sensing and DNA damage response to maintain the intestinal homeostasis.\n",
      "DISEASE:\n",
      "  - necroptosis-related spontaneous enteritis\n",
      "\n",
      "PMID: 39753750\n",
      "Titre: Plasma proteomic signatures of social isolation and loneliness associated with morbidity and mortality.\n",
      "DISEASE:\n",
      "  - cardiovascular disease\n"
     ]
    }
   ],
   "source": [
    "first_10_results = dict(list(results.items())[:10])\n",
    "display_results(first_10_results)"
   ]
  },
  {
   "cell_type": "code",
   "execution_count": 14,
   "metadata": {
    "execution": {
     "iopub.execute_input": "2025-03-02T14:02:59.669811Z",
     "iopub.status.busy": "2025-03-02T14:02:59.669527Z",
     "iopub.status.idle": "2025-03-02T14:02:59.675969Z",
     "shell.execute_reply": "2025-03-02T14:02:59.675259Z",
     "shell.execute_reply.started": "2025-03-02T14:02:59.669788Z"
    },
    "trusted": true
   },
   "outputs": [],
   "source": [
    "results_serializable = {}\n",
    "for pmid, data in results.items():\n",
    "    results_serializable[pmid] = {\n",
    "        \"pmid\": data[\"pmid\"],\n",
    "        \"title\": data[\"title\"],\n",
    "        \"annotations\": {\n",
    "            \"DISEASE\": list(data[\"annotations\"][\"DISEASE\"]),\n",
    "            \"CELL_TYPE\": list(data[\"annotations\"][\"CELL_TYPE\"])\n",
    "        }\n",
    "    }"
   ]
  },
  {
   "cell_type": "code",
   "execution_count": null,
   "metadata": {
    "execution": {
     "iopub.execute_input": "2025-03-02T14:03:08.693635Z",
     "iopub.status.busy": "2025-03-02T14:03:08.693347Z",
     "iopub.status.idle": "2025-03-02T14:03:08.712326Z",
     "shell.execute_reply": "2025-03-02T14:03:08.711663Z",
     "shell.execute_reply.started": "2025-03-02T14:03:08.693614Z"
    },
    "trusted": true
   },
   "outputs": [
    {
     "name": "stdout",
     "output_type": "stream",
     "text": [
      "Résultats sauvegardés dans /kaggle/working/annotated_articles.json\n"
     ]
    }
   ],
   "source": [
    "#output_file = '/kaggle/working/annotated_articles.json'\n",
    "output_file = '/Users/nadiabenyoussef/Projet NLP/annotation/annotated_articles.json'\n",
    "with open(output_file, 'w') as f:\n",
    "    json.dump(results_serializable, f, indent=4)\n",
    "print(f\"Résultats sauvegardés dans {output_file}\")"
   ]
  },
  {
   "cell_type": "code",
   "execution_count": null,
   "metadata": {
    "execution": {
     "iopub.execute_input": "2025-03-02T14:03:21.710034Z",
     "iopub.status.busy": "2025-03-02T14:03:21.709686Z",
     "iopub.status.idle": "2025-03-02T14:03:21.715608Z",
     "shell.execute_reply": "2025-03-02T14:03:21.714767Z",
     "shell.execute_reply.started": "2025-03-02T14:03:21.710008Z"
    },
    "trusted": true
   },
   "outputs": [
    {
     "name": "stdout",
     "output_type": "stream",
     "text": [
      "Fichiers dans /kaggle/working/ : ['.virtual_documents', 'annotated_articles.json']\n"
     ]
    }
   ],
   "source": [
    "#print(\"Fichiers dans /kaggle/working/ :\", os.listdir('/kaggle/working/'))"
   ]
  },
  {
   "cell_type": "code",
   "execution_count": null,
   "metadata": {
    "execution": {
     "iopub.execute_input": "2025-03-02T14:05:28.996292Z",
     "iopub.status.busy": "2025-03-02T14:05:28.995923Z",
     "iopub.status.idle": "2025-03-02T14:05:29.009573Z",
     "shell.execute_reply": "2025-03-02T14:05:29.008711Z",
     "shell.execute_reply.started": "2025-03-02T14:05:28.996267Z"
    },
    "trusted": true
   },
   "outputs": [
    {
     "name": "stdout",
     "output_type": "stream",
     "text": [
      "5 premières entrées du fichier annotated_articles.json :\n",
      "\n",
      "PMID: 39743585\n",
      "Titre: FBP1 controls liver cancer evolution from senescent MASH hepatocytes.\n",
      "DISEASE: ['Hepatocellular carcinoma', 'metabolic-dysfunction-associated steatohepatitis']\n",
      "CELL_TYPE: ['HCC progenitor cells4,5', 'HCC progenitor', 'differentiated hepatocytes', 'senescent MASH hepatocytes', 'hepatocytes']\n",
      "\n",
      "PMID: 39743589\n",
      "Titre: Aspartate signalling drives lung metastasis via alternative translation.\n",
      "DISEASE: ['breast cancer']\n",
      "CELL_TYPE: ['immune cells']\n",
      "\n",
      "PMID: 39753770\n",
      "Titre: Blood DNA virome associates with autoimmune diseases and COVID-19.\n",
      "DISEASE: ['multiple sclerosis']\n",
      "CELL_TYPE: []\n",
      "\n",
      "PMID: 39755327\n",
      "Titre: Implications of an Off-Hours Setting in Patients Undergoing Transcatheter Edge-to-Edge Repair for Mitral Regurgitation.\n",
      "DISEASE: ['unspecified disease']\n",
      "CELL_TYPE: []\n",
      "\n",
      "PMID: 39753140\n",
      "Titre: Infiltrating plasma cells maintain glioblastoma stem cells through IgG-Tumor binding.\n",
      "DISEASE: ['glioblastoma']\n",
      "CELL_TYPE: ['glioblastoma stem cells', 'tumor-infiltrating B-lineage cells', 'Plasma cells', 'B-lineage cells']\n"
     ]
    }
   ],
   "source": [
    "#output_file = '/kaggle/working/annotated_articles.json'\n",
    "output_file = '/Users/nadiabenyoussef/Projet NLP/annotation/annotated_articles.json'\n",
    "\n",
    "with open(output_file, 'r') as f:\n",
    "    data = json.load(f)\n",
    "first_5_entries = dict(list(data.items())[:5])\n",
    "\n",
    "print(\"5 premières entrées du fichier annotated_articles.json :\")\n",
    "for pmid, info in first_5_entries.items():\n",
    "    print(f\"\\nPMID: {pmid}\")\n",
    "    print(f\"Titre: {info['title']}\")\n",
    "    print(\"DISEASE:\", info['annotations']['DISEASE'])\n",
    "    print(\"CELL_TYPE:\", info['annotations']['CELL_TYPE'])"
   ]
  }
 ],
 "metadata": {
  "kaggle": {
   "accelerator": "gpu",
   "dataSources": [
    {
     "datasetId": 6715957,
     "sourceId": 10817058,
     "sourceType": "datasetVersion"
    }
   ],
   "dockerImageVersionId": 30823,
   "isGpuEnabled": true,
   "isInternetEnabled": true,
   "language": "python",
   "sourceType": "notebook"
  },
  "kernelspec": {
   "display_name": "Python 3",
   "language": "python",
   "name": "python3"
  },
  "language_info": {
   "codemirror_mode": {
    "name": "ipython",
    "version": 3
   },
   "file_extension": ".py",
   "mimetype": "text/x-python",
   "name": "python",
   "nbconvert_exporter": "python",
   "pygments_lexer": "ipython3",
   "version": "3.10.12"
  }
 },
 "nbformat": 4,
 "nbformat_minor": 4
}
